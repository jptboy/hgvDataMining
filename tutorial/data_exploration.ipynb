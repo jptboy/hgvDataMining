{
 "cells": [
  {
   "cell_type": "markdown",
   "metadata": {},
   "source": [
    "# Introduction\n",
    "Author: Cory Mosiman  \n",
    "Date: March 2nd, 2018\n",
    "\n",
    "\n",
    "The purpose of this file is to provide a quick tutorial on:\n",
    "- How do I read data in from a csv file?\n",
    "- How do I manipulate dates/times in a pandas dataframe?\n",
    "- How do I  manipulate rows, columns, etc. in a dataframe?"
   ]
  },
  {
   "cell_type": "code",
   "execution_count": null,
   "metadata": {
    "collapsed": true
   },
   "outputs": [],
   "source": [
    "import pandas as pd\n",
    "import numpy as np\n",
    "import os"
   ]
  },
  {
   "cell_type": "code",
   "execution_count": 17,
   "metadata": {},
   "outputs": [],
   "source": [
    "# list the files in the data directory\n",
    "data_dir = './../data/raw-data'\n",
    "files = os.listdir(data_dir)\n",
    "test_file = files[0]"
   ]
  },
  {
   "cell_type": "code",
   "execution_count": 22,
   "metadata": {},
   "outputs": [
    {
     "name": "stdout",
     "output_type": "stream",
     "text": [
      "<class 'pandas.core.frame.DataFrame'>\n",
      "DatetimeIndex: 10080 entries, 2017-04-10 00:00:00 to 2017-04-16 23:59:00\n",
      "Data columns (total 24 columns):\n",
      "CH1-Bldg F1                    10080 non-null int64\n",
      "CH3-Solar Input (F1)           10080 non-null int64\n",
      "CH4-No CT                      10080 non-null int64\n",
      "CH5-WSHP                       10080 non-null int64\n",
      "CH6-Range                      10080 non-null int64\n",
      "CH8-Microwave                  10080 non-null int64\n",
      "CH9-Dishwasher                 10080 non-null int64\n",
      "CH10-Mixer                     10080 non-null int64\n",
      "CH11-Fridge in Back            10080 non-null int64\n",
      "CH12-Front Display Case        10080 non-null int64\n",
      "CH13-Back Middle Freezer       10080 non-null int64\n",
      "CH14-Back Freezer near Wall    10080 non-null int64\n",
      "CH15-Lighting{1}               10080 non-null int64\n",
      "CH16-Gas Water Heater          10080 non-null int64\n",
      "CH17-Gas Convection Oven       10080 non-null int64\n",
      "CH18-Receptacle 1              10080 non-null int64\n",
      "CH19-Receptacle 2              10080 non-null int64\n",
      "CH20-Receptacle 3              10080 non-null int64\n",
      "CH21-Front Small Fridge        10080 non-null int64\n",
      "CH22-Bath/Mechanical Room      10080 non-null int64\n",
      "CH23-Outdoor Receptacle        10080 non-null int64\n",
      "CH24-Lighting Outdoor          10080 non-null int64\n",
      "4065/Voltage                   10080 non-null float64\n",
      "Outdoor Temp                   168 non-null float64\n",
      "dtypes: float64(2), int64(22)\n",
      "memory usage: 1.9 MB\n"
     ]
    }
   ],
   "source": [
    "# read the file in, skipping initial rows, passing in the date/time column as an index and parsing dates.\n",
    "data = pd.read_csv(os.path.join(data_dir + os.sep + test_file), skiprows=6, index_col = [0], parse_dates=True)\n",
    "\n",
    "# shows the index is correctly converted to a DatetimeIndex, super helpful for manipulations\n",
    "data.info()"
   ]
  },
  {
   "cell_type": "code",
   "execution_count": 23,
   "metadata": {},
   "outputs": [
    {
     "name": "stdout",
     "output_type": "stream",
     "text": [
      "<class 'pandas.core.frame.DataFrame'>\n",
      "MultiIndex: 232008 entries, (2017-04-10 00:00:00, CH1-Bldg F1) to (2017-04-16 23:59:00, 4065/Voltage)\n",
      "Data columns (total 1 columns):\n",
      "power_watts    232008 non-null float64\n",
      "dtypes: float64(1)\n",
      "memory usage: 2.5+ MB\n"
     ]
    }
   ],
   "source": [
    "# Now, we want to use the column names as part of the index.  \n",
    "data_new = pd.DataFrame(data.stack(), columns = ['power_watts'])\n",
    "data_new.info()"
   ]
  },
  {
   "cell_type": "code",
   "execution_count": 24,
   "metadata": {},
   "outputs": [
    {
     "name": "stdout",
     "output_type": "stream",
     "text": [
      "<class 'pandas.core.frame.DataFrame'>\n"
     ]
    },
    {
     "data": {
      "text/html": [
       "<div>\n",
       "<style>\n",
       "    .dataframe thead tr:only-child th {\n",
       "        text-align: right;\n",
       "    }\n",
       "\n",
       "    .dataframe thead th {\n",
       "        text-align: left;\n",
       "    }\n",
       "\n",
       "    .dataframe tbody tr th {\n",
       "        vertical-align: top;\n",
       "    }\n",
       "</style>\n",
       "<table border=\"1\" class=\"dataframe\">\n",
       "  <thead>\n",
       "    <tr style=\"text-align: right;\">\n",
       "      <th></th>\n",
       "      <th></th>\n",
       "      <th>power_watts</th>\n",
       "    </tr>\n",
       "    <tr>\n",
       "      <th>Date/Time</th>\n",
       "      <th></th>\n",
       "      <th></th>\n",
       "    </tr>\n",
       "  </thead>\n",
       "  <tbody>\n",
       "    <tr>\n",
       "      <th rowspan=\"5\" valign=\"top\">2017-04-10</th>\n",
       "      <th>CH1-Bldg F1</th>\n",
       "      <td>2841.0</td>\n",
       "    </tr>\n",
       "    <tr>\n",
       "      <th>CH3-Solar Input (F1)</th>\n",
       "      <td>0.0</td>\n",
       "    </tr>\n",
       "    <tr>\n",
       "      <th>CH4-No CT</th>\n",
       "      <td>0.0</td>\n",
       "    </tr>\n",
       "    <tr>\n",
       "      <th>CH5-WSHP</th>\n",
       "      <td>0.0</td>\n",
       "    </tr>\n",
       "    <tr>\n",
       "      <th>CH6-Range</th>\n",
       "      <td>0.0</td>\n",
       "    </tr>\n",
       "  </tbody>\n",
       "</table>\n",
       "</div>"
      ],
      "text/plain": [
       "                                 power_watts\n",
       " Date/Time                                  \n",
       "2017-04-10 CH1-Bldg F1                2841.0\n",
       "           CH3-Solar Input (F1)          0.0\n",
       "           CH4-No CT                     0.0\n",
       "           CH5-WSHP                      0.0\n",
       "           CH6-Range                     0.0"
      ]
     },
     "execution_count": 24,
     "metadata": {},
     "output_type": "execute_result"
    }
   ],
   "source": [
    "# Notice how this is now different\n",
    "print(type(data_new))\n",
    "data_new.head()"
   ]
  },
  {
   "cell_type": "code",
   "execution_count": 25,
   "metadata": {
    "collapsed": true
   },
   "outputs": [],
   "source": [
    "# Let's give the index the correct names\n",
    "data_new.index.names = ['date_time','channel']"
   ]
  },
  {
   "cell_type": "code",
   "execution_count": 26,
   "metadata": {},
   "outputs": [
    {
     "data": {
      "text/html": [
       "<div>\n",
       "<style>\n",
       "    .dataframe thead tr:only-child th {\n",
       "        text-align: right;\n",
       "    }\n",
       "\n",
       "    .dataframe thead th {\n",
       "        text-align: left;\n",
       "    }\n",
       "\n",
       "    .dataframe tbody tr th {\n",
       "        vertical-align: top;\n",
       "    }\n",
       "</style>\n",
       "<table border=\"1\" class=\"dataframe\">\n",
       "  <thead>\n",
       "    <tr style=\"text-align: right;\">\n",
       "      <th></th>\n",
       "      <th></th>\n",
       "      <th>power_watts</th>\n",
       "    </tr>\n",
       "    <tr>\n",
       "      <th>date_time</th>\n",
       "      <th>channel</th>\n",
       "      <th></th>\n",
       "    </tr>\n",
       "  </thead>\n",
       "  <tbody>\n",
       "    <tr>\n",
       "      <th rowspan=\"5\" valign=\"top\">2017-04-10</th>\n",
       "      <th>CH1-Bldg F1</th>\n",
       "      <td>2841.0</td>\n",
       "    </tr>\n",
       "    <tr>\n",
       "      <th>CH3-Solar Input (F1)</th>\n",
       "      <td>0.0</td>\n",
       "    </tr>\n",
       "    <tr>\n",
       "      <th>CH4-No CT</th>\n",
       "      <td>0.0</td>\n",
       "    </tr>\n",
       "    <tr>\n",
       "      <th>CH5-WSHP</th>\n",
       "      <td>0.0</td>\n",
       "    </tr>\n",
       "    <tr>\n",
       "      <th>CH6-Range</th>\n",
       "      <td>0.0</td>\n",
       "    </tr>\n",
       "  </tbody>\n",
       "</table>\n",
       "</div>"
      ],
      "text/plain": [
       "                                 power_watts\n",
       "date_time  channel                          \n",
       "2017-04-10 CH1-Bldg F1                2841.0\n",
       "           CH3-Solar Input (F1)          0.0\n",
       "           CH4-No CT                     0.0\n",
       "           CH5-WSHP                      0.0\n",
       "           CH6-Range                     0.0"
      ]
     },
     "execution_count": 26,
     "metadata": {},
     "output_type": "execute_result"
    }
   ],
   "source": [
    "# BAM\n",
    "data_new.head()"
   ]
  },
  {
   "cell_type": "code",
   "execution_count": 27,
   "metadata": {},
   "outputs": [
    {
     "data": {
      "text/html": [
       "<div>\n",
       "<style>\n",
       "    .dataframe thead tr:only-child th {\n",
       "        text-align: right;\n",
       "    }\n",
       "\n",
       "    .dataframe thead th {\n",
       "        text-align: left;\n",
       "    }\n",
       "\n",
       "    .dataframe tbody tr th {\n",
       "        vertical-align: top;\n",
       "    }\n",
       "</style>\n",
       "<table border=\"1\" class=\"dataframe\">\n",
       "  <thead>\n",
       "    <tr style=\"text-align: right;\">\n",
       "      <th></th>\n",
       "      <th></th>\n",
       "      <th>power_watts</th>\n",
       "    </tr>\n",
       "    <tr>\n",
       "      <th>date_time</th>\n",
       "      <th>channel</th>\n",
       "      <th></th>\n",
       "    </tr>\n",
       "  </thead>\n",
       "  <tbody>\n",
       "    <tr>\n",
       "      <th>2017-04-10 00:00:00</th>\n",
       "      <th>CH1-Bldg F1</th>\n",
       "      <td>2841.0</td>\n",
       "    </tr>\n",
       "    <tr>\n",
       "      <th>2017-04-10 00:01:00</th>\n",
       "      <th>CH1-Bldg F1</th>\n",
       "      <td>2119.0</td>\n",
       "    </tr>\n",
       "    <tr>\n",
       "      <th>2017-04-10 00:02:00</th>\n",
       "      <th>CH1-Bldg F1</th>\n",
       "      <td>2014.0</td>\n",
       "    </tr>\n",
       "    <tr>\n",
       "      <th>2017-04-10 00:03:00</th>\n",
       "      <th>CH1-Bldg F1</th>\n",
       "      <td>2799.0</td>\n",
       "    </tr>\n",
       "    <tr>\n",
       "      <th>2017-04-10 00:04:00</th>\n",
       "      <th>CH1-Bldg F1</th>\n",
       "      <td>3644.0</td>\n",
       "    </tr>\n",
       "  </tbody>\n",
       "</table>\n",
       "</div>"
      ],
      "text/plain": [
       "                                 power_watts\n",
       "date_time           channel                 \n",
       "2017-04-10 00:00:00 CH1-Bldg F1       2841.0\n",
       "2017-04-10 00:01:00 CH1-Bldg F1       2119.0\n",
       "2017-04-10 00:02:00 CH1-Bldg F1       2014.0\n",
       "2017-04-10 00:03:00 CH1-Bldg F1       2799.0\n",
       "2017-04-10 00:04:00 CH1-Bldg F1       3644.0"
      ]
     },
     "execution_count": 27,
     "metadata": {},
     "output_type": "execute_result"
    }
   ],
   "source": [
    "# First off, let's make this simple and just look at full building energy consumption\n",
    "# pd.IndexSlice is an object that basically simplifies selecting subsets from a multi-index\n",
    "idx = pd.IndexSlice\n",
    "channel_name = 'CH1-Bldg F1'\n",
    "data_full_bldg = data_new.loc[idx[:,[channel_name]], :]\n",
    "data_full_bldg.head()"
   ]
  },
  {
   "cell_type": "code",
   "execution_count": 28,
   "metadata": {},
   "outputs": [
    {
     "data": {
      "text/html": [
       "<div>\n",
       "<style>\n",
       "    .dataframe thead tr:only-child th {\n",
       "        text-align: right;\n",
       "    }\n",
       "\n",
       "    .dataframe thead th {\n",
       "        text-align: left;\n",
       "    }\n",
       "\n",
       "    .dataframe tbody tr th {\n",
       "        vertical-align: top;\n",
       "    }\n",
       "</style>\n",
       "<table border=\"1\" class=\"dataframe\">\n",
       "  <thead>\n",
       "    <tr style=\"text-align: right;\">\n",
       "      <th></th>\n",
       "      <th>channel</th>\n",
       "      <th>power_watts</th>\n",
       "    </tr>\n",
       "    <tr>\n",
       "      <th>date_time</th>\n",
       "      <th></th>\n",
       "      <th></th>\n",
       "    </tr>\n",
       "  </thead>\n",
       "  <tbody>\n",
       "    <tr>\n",
       "      <th>2017-04-10 00:00:00</th>\n",
       "      <td>CH1-Bldg F1</td>\n",
       "      <td>2841.0</td>\n",
       "    </tr>\n",
       "    <tr>\n",
       "      <th>2017-04-10 00:01:00</th>\n",
       "      <td>CH1-Bldg F1</td>\n",
       "      <td>2119.0</td>\n",
       "    </tr>\n",
       "    <tr>\n",
       "      <th>2017-04-10 00:02:00</th>\n",
       "      <td>CH1-Bldg F1</td>\n",
       "      <td>2014.0</td>\n",
       "    </tr>\n",
       "    <tr>\n",
       "      <th>2017-04-10 00:03:00</th>\n",
       "      <td>CH1-Bldg F1</td>\n",
       "      <td>2799.0</td>\n",
       "    </tr>\n",
       "    <tr>\n",
       "      <th>2017-04-10 00:04:00</th>\n",
       "      <td>CH1-Bldg F1</td>\n",
       "      <td>3644.0</td>\n",
       "    </tr>\n",
       "  </tbody>\n",
       "</table>\n",
       "</div>"
      ],
      "text/plain": [
       "                         channel  power_watts\n",
       "date_time                                    \n",
       "2017-04-10 00:00:00  CH1-Bldg F1       2841.0\n",
       "2017-04-10 00:01:00  CH1-Bldg F1       2119.0\n",
       "2017-04-10 00:02:00  CH1-Bldg F1       2014.0\n",
       "2017-04-10 00:03:00  CH1-Bldg F1       2799.0\n",
       "2017-04-10 00:04:00  CH1-Bldg F1       3644.0"
      ]
     },
     "execution_count": 28,
     "metadata": {},
     "output_type": "execute_result"
    }
   ],
   "source": [
    "# only use the date_time as the index value now\n",
    "data_full_bldg.reset_index(level = 'channel', inplace=True)\n",
    "data_full_bldg.head()"
   ]
  },
  {
   "cell_type": "code",
   "execution_count": 29,
   "metadata": {
    "collapsed": true
   },
   "outputs": [],
   "source": [
    "# Now I want to create some categorical features.  I extract the datetime from the index and pull\n",
    "# out the day of the week and the hour\n",
    "dates = pd.to_datetime(data_full_bldg.index)\n",
    "type(dates)\n",
    "day_of_week, hour = dates.weekday + 1, dates.hour"
   ]
  },
  {
   "cell_type": "code",
   "execution_count": 30,
   "metadata": {},
   "outputs": [
    {
     "data": {
      "text/html": [
       "<div>\n",
       "<style>\n",
       "    .dataframe thead tr:only-child th {\n",
       "        text-align: right;\n",
       "    }\n",
       "\n",
       "    .dataframe thead th {\n",
       "        text-align: left;\n",
       "    }\n",
       "\n",
       "    .dataframe tbody tr th {\n",
       "        vertical-align: top;\n",
       "    }\n",
       "</style>\n",
       "<table border=\"1\" class=\"dataframe\">\n",
       "  <thead>\n",
       "    <tr style=\"text-align: right;\">\n",
       "      <th></th>\n",
       "      <th>day_of_week</th>\n",
       "      <th>hour</th>\n",
       "      <th>is_weekday</th>\n",
       "    </tr>\n",
       "    <tr>\n",
       "      <th>date_time</th>\n",
       "      <th></th>\n",
       "      <th></th>\n",
       "      <th></th>\n",
       "    </tr>\n",
       "  </thead>\n",
       "  <tbody>\n",
       "    <tr>\n",
       "      <th>2017-04-10 00:00:00</th>\n",
       "      <td>1</td>\n",
       "      <td>0</td>\n",
       "      <td>True</td>\n",
       "    </tr>\n",
       "    <tr>\n",
       "      <th>2017-04-10 00:01:00</th>\n",
       "      <td>1</td>\n",
       "      <td>0</td>\n",
       "      <td>True</td>\n",
       "    </tr>\n",
       "    <tr>\n",
       "      <th>2017-04-10 00:02:00</th>\n",
       "      <td>1</td>\n",
       "      <td>0</td>\n",
       "      <td>True</td>\n",
       "    </tr>\n",
       "    <tr>\n",
       "      <th>2017-04-10 00:03:00</th>\n",
       "      <td>1</td>\n",
       "      <td>0</td>\n",
       "      <td>True</td>\n",
       "    </tr>\n",
       "    <tr>\n",
       "      <th>2017-04-10 00:04:00</th>\n",
       "      <td>1</td>\n",
       "      <td>0</td>\n",
       "      <td>True</td>\n",
       "    </tr>\n",
       "  </tbody>\n",
       "</table>\n",
       "</div>"
      ],
      "text/plain": [
       "                     day_of_week  hour  is_weekday\n",
       "date_time                                         \n",
       "2017-04-10 00:00:00            1     0        True\n",
       "2017-04-10 00:01:00            1     0        True\n",
       "2017-04-10 00:02:00            1     0        True\n",
       "2017-04-10 00:03:00            1     0        True\n",
       "2017-04-10 00:04:00            1     0        True"
      ]
     },
     "execution_count": 30,
     "metadata": {},
     "output_type": "execute_result"
    }
   ],
   "source": [
    "# We will create a new variable to encode the weekdays vs. weekends and add them to our dataframe\n",
    "is_weekday = [True if day < 6 else False for day in day_of_week]\n",
    "new_features = pd.DataFrame({'is_weekday': is_weekday, 'day_of_week':day_of_week, 'hour':hour}, index=dates)\n",
    "new_features.head()"
   ]
  },
  {
   "cell_type": "code",
   "execution_count": 31,
   "metadata": {},
   "outputs": [
    {
     "name": "stdout",
     "output_type": "stream",
     "text": [
      "<class 'pandas.core.frame.DataFrame'>\n",
      "DatetimeIndex: 10080 entries, 2017-04-10 00:00:00 to 2017-04-16 23:59:00\n",
      "Data columns (total 3 columns):\n",
      "day_of_week    10080 non-null category\n",
      "hour           10080 non-null category\n",
      "is_weekday     10080 non-null category\n",
      "dtypes: category(3)\n",
      "memory usage: 109.6 KB\n"
     ]
    }
   ],
   "source": [
    "# Now we will encode the above variables as categorical, defaulting to a nominal (or unordered) \n",
    "# categorical variable\n",
    "new_features['day_of_week'] = new_features['day_of_week'].astype('category')\n",
    "new_features['hour'] = new_features['hour'].astype('category')\n",
    "new_features['is_weekday'] = new_features['is_weekday'].astype('category')\n",
    "new_features.info()"
   ]
  },
  {
   "cell_type": "code",
   "execution_count": 32,
   "metadata": {
    "collapsed": true
   },
   "outputs": [],
   "source": [
    "data_full_bldg_new_feats = pd.concat([data_full_bldg, new_features], axis = 1)"
   ]
  },
  {
   "cell_type": "code",
   "execution_count": 33,
   "metadata": {},
   "outputs": [
    {
     "data": {
      "text/html": [
       "<div>\n",
       "<style>\n",
       "    .dataframe thead tr:only-child th {\n",
       "        text-align: right;\n",
       "    }\n",
       "\n",
       "    .dataframe thead th {\n",
       "        text-align: left;\n",
       "    }\n",
       "\n",
       "    .dataframe tbody tr th {\n",
       "        vertical-align: top;\n",
       "    }\n",
       "</style>\n",
       "<table border=\"1\" class=\"dataframe\">\n",
       "  <thead>\n",
       "    <tr style=\"text-align: right;\">\n",
       "      <th></th>\n",
       "      <th>channel</th>\n",
       "      <th>power_watts</th>\n",
       "      <th>day_of_week</th>\n",
       "      <th>hour</th>\n",
       "      <th>is_weekday</th>\n",
       "    </tr>\n",
       "    <tr>\n",
       "      <th>date_time</th>\n",
       "      <th></th>\n",
       "      <th></th>\n",
       "      <th></th>\n",
       "      <th></th>\n",
       "      <th></th>\n",
       "    </tr>\n",
       "  </thead>\n",
       "  <tbody>\n",
       "    <tr>\n",
       "      <th>2017-04-10 00:00:00</th>\n",
       "      <td>CH1-Bldg F1</td>\n",
       "      <td>2841.0</td>\n",
       "      <td>1</td>\n",
       "      <td>0</td>\n",
       "      <td>True</td>\n",
       "    </tr>\n",
       "    <tr>\n",
       "      <th>2017-04-10 00:01:00</th>\n",
       "      <td>CH1-Bldg F1</td>\n",
       "      <td>2119.0</td>\n",
       "      <td>1</td>\n",
       "      <td>0</td>\n",
       "      <td>True</td>\n",
       "    </tr>\n",
       "    <tr>\n",
       "      <th>2017-04-10 00:02:00</th>\n",
       "      <td>CH1-Bldg F1</td>\n",
       "      <td>2014.0</td>\n",
       "      <td>1</td>\n",
       "      <td>0</td>\n",
       "      <td>True</td>\n",
       "    </tr>\n",
       "    <tr>\n",
       "      <th>2017-04-10 00:03:00</th>\n",
       "      <td>CH1-Bldg F1</td>\n",
       "      <td>2799.0</td>\n",
       "      <td>1</td>\n",
       "      <td>0</td>\n",
       "      <td>True</td>\n",
       "    </tr>\n",
       "    <tr>\n",
       "      <th>2017-04-10 00:04:00</th>\n",
       "      <td>CH1-Bldg F1</td>\n",
       "      <td>3644.0</td>\n",
       "      <td>1</td>\n",
       "      <td>0</td>\n",
       "      <td>True</td>\n",
       "    </tr>\n",
       "  </tbody>\n",
       "</table>\n",
       "</div>"
      ],
      "text/plain": [
       "                         channel  power_watts day_of_week hour is_weekday\n",
       "date_time                                                                \n",
       "2017-04-10 00:00:00  CH1-Bldg F1       2841.0           1    0       True\n",
       "2017-04-10 00:01:00  CH1-Bldg F1       2119.0           1    0       True\n",
       "2017-04-10 00:02:00  CH1-Bldg F1       2014.0           1    0       True\n",
       "2017-04-10 00:03:00  CH1-Bldg F1       2799.0           1    0       True\n",
       "2017-04-10 00:04:00  CH1-Bldg F1       3644.0           1    0       True"
      ]
     },
     "execution_count": 33,
     "metadata": {},
     "output_type": "execute_result"
    }
   ],
   "source": [
    "data_full_bldg_new_feats.head()"
   ]
  },
  {
   "cell_type": "code",
   "execution_count": 34,
   "metadata": {},
   "outputs": [
    {
     "name": "stdout",
     "output_type": "stream",
     "text": [
      "<class 'pandas.core.frame.DataFrame'>\n",
      "DatetimeIndex: 10080 entries, 2017-04-10 00:00:00 to 2017-04-16 23:59:00\n",
      "Data columns (total 5 columns):\n",
      "channel        10080 non-null object\n",
      "power_watts    10080 non-null float64\n",
      "day_of_week    10080 non-null category\n",
      "hour           10080 non-null category\n",
      "is_weekday     10080 non-null category\n",
      "dtypes: category(3), float64(1), object(1)\n",
      "memory usage: 267.1+ KB\n"
     ]
    }
   ],
   "source": [
    "data_full_bldg_new_feats.info()"
   ]
  },
  {
   "cell_type": "markdown",
   "metadata": {},
   "source": [
    "<br>\n",
    "<br>\n",
    "<br>\n",
    "<br>\n",
    "<br>\n",
    "<br>\n",
    "<br>\n",
    "<br>\n",
    "# NOT COMPLETE"
   ]
  },
  {
   "cell_type": "code",
   "execution_count": 214,
   "metadata": {
    "collapsed": true
   },
   "outputs": [],
   "source": [
    "from sklearn.linear_model import LinearRegression\n",
    "from sklearn.model_selection import train_test_split\n",
    "X = data_full_bldg_new_feats.iloc[:,2:4]\n",
    "y = data_full_bldg_new_feats['power_watts']\n",
    "X_train, X_test, y_train, y_test = train_test_split(X, y, test_size=0.33, random_state=42)\n",
    "linreg = LinearRegression()"
   ]
  },
  {
   "cell_type": "code",
   "execution_count": 215,
   "metadata": {},
   "outputs": [
    {
     "data": {
      "text/plain": [
       "LinearRegression(copy_X=True, fit_intercept=True, n_jobs=1, normalize=False)"
      ]
     },
     "execution_count": 215,
     "metadata": {},
     "output_type": "execute_result"
    }
   ],
   "source": [
    "linreg.fit(X_train, y_train)"
   ]
  },
  {
   "cell_type": "code",
   "execution_count": 217,
   "metadata": {
    "collapsed": true
   },
   "outputs": [],
   "source": [
    "y_predict = linreg.predict(X_test)"
   ]
  },
  {
   "cell_type": "code",
   "execution_count": 218,
   "metadata": {},
   "outputs": [
    {
     "data": {
      "text/plain": [
       "6745658.8974036137"
      ]
     },
     "execution_count": 218,
     "metadata": {},
     "output_type": "execute_result"
    }
   ],
   "source": [
    "from sklearn.metrics import mean_squared_error\n",
    "mean_squared_error(y_test, y_predict)"
   ]
  },
  {
   "cell_type": "code",
   "execution_count": 224,
   "metadata": {},
   "outputs": [
    {
     "name": "stdout",
     "output_type": "stream",
     "text": [
      "3327 <class 'pandas.core.frame.DataFrame'>\n",
      "3327 <class 'pandas.core.series.Series'>\n",
      "3327 <class 'numpy.ndarray'>\n"
     ]
    }
   ],
   "source": [
    "print(len(X_test), type(X_test))\n",
    "print(len(y_test), type(y_test))\n",
    "print(len(y_predict), type(y_predict))"
   ]
  },
  {
   "cell_type": "code",
   "execution_count": 228,
   "metadata": {},
   "outputs": [
    {
     "data": {
      "text/html": [
       "<div>\n",
       "<style>\n",
       "    .dataframe thead tr:only-child th {\n",
       "        text-align: right;\n",
       "    }\n",
       "\n",
       "    .dataframe thead th {\n",
       "        text-align: left;\n",
       "    }\n",
       "\n",
       "    .dataframe tbody tr th {\n",
       "        vertical-align: top;\n",
       "    }\n",
       "</style>\n",
       "<table border=\"1\" class=\"dataframe\">\n",
       "  <thead>\n",
       "    <tr style=\"text-align: right;\">\n",
       "      <th></th>\n",
       "      <th>day_of_week</th>\n",
       "      <th>hour</th>\n",
       "    </tr>\n",
       "    <tr>\n",
       "      <th>date_time</th>\n",
       "      <th></th>\n",
       "      <th></th>\n",
       "    </tr>\n",
       "  </thead>\n",
       "  <tbody>\n",
       "    <tr>\n",
       "      <th>2016-08-07 19:43:00</th>\n",
       "      <td>7</td>\n",
       "      <td>19</td>\n",
       "    </tr>\n",
       "    <tr>\n",
       "      <th>2016-08-01 00:33:00</th>\n",
       "      <td>1</td>\n",
       "      <td>0</td>\n",
       "    </tr>\n",
       "    <tr>\n",
       "      <th>2016-08-01 22:49:00</th>\n",
       "      <td>1</td>\n",
       "      <td>22</td>\n",
       "    </tr>\n",
       "    <tr>\n",
       "      <th>2016-08-03 12:20:00</th>\n",
       "      <td>3</td>\n",
       "      <td>12</td>\n",
       "    </tr>\n",
       "    <tr>\n",
       "      <th>2016-08-03 06:32:00</th>\n",
       "      <td>3</td>\n",
       "      <td>6</td>\n",
       "    </tr>\n",
       "  </tbody>\n",
       "</table>\n",
       "</div>"
      ],
      "text/plain": [
       "                    day_of_week hour\n",
       "date_time                           \n",
       "2016-08-07 19:43:00           7   19\n",
       "2016-08-01 00:33:00           1    0\n",
       "2016-08-01 22:49:00           1   22\n",
       "2016-08-03 12:20:00           3   12\n",
       "2016-08-03 06:32:00           3    6"
      ]
     },
     "execution_count": 228,
     "metadata": {},
     "output_type": "execute_result"
    }
   ],
   "source": [
    "X_test.head()"
   ]
  },
  {
   "cell_type": "code",
   "execution_count": 235,
   "metadata": {},
   "outputs": [
    {
     "data": {
      "image/png": "[encoded data removed]",
      "text/plain": [
       "<matplotlib.figure.Figure at 0x118c64d30>"
      ]
     },
     "metadata": {},
     "output_type": "display_data"
    }
   ],
   "source": [
    "# import matplotlib.pyplot as plt\n",
    "# %matplotlib inline\n",
    "\n",
    "# plt.scatter(X_test.index, y_test, color = 'black')\n",
    "# plt.scatter(X_test.index, y_predict, color = 'red')\n",
    "# plt.show()"
   ]
  },
  {
   "cell_type": "code",
   "execution_count": null,
   "metadata": {
    "collapsed": true
   },
   "outputs": [],
   "source": []
  }
 ],
 "metadata": {
  "kernelspec": {
   "display_name": "Python 3",
   "language": "python",
   "name": "python3"
  },
  "language_info": {
   "codemirror_mode": {
    "name": "ipython",
    "version": 3
   },
   "file_extension": ".py",
   "mimetype": "text/x-python",
   "name": "python",
   "nbconvert_exporter": "python",
   "pygments_lexer": "ipython3",
   "version": "3.6.3"
  }
 },
 "nbformat": 4,
 "nbformat_minor": 2
}
